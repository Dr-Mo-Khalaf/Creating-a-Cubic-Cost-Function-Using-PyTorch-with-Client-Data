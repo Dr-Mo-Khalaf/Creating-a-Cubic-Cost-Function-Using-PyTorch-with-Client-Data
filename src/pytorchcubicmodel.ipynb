{
 "cells": [
  {
   "cell_type": "markdown",
   "id": "7be56706-6f21-4e36-bb84-9423b8c81084",
   "metadata": {},
   "source": [
    "We received the Total cost sheet and it looks like a Cubic function,  assumes you’re modeling a function similar to a*x^3 + b*x^2 + c*x + d, where x is transformed to include its squared and cubic terms before being fed into a single nn.Linear layer."
   ]
  },
  {
   "cell_type": "markdown",
   "id": "924410d7-a511-41af-9cab-c65a29712f61",
   "metadata": {},
   "source": [
    "### Step 1: Import Necessary Libraries\n"
   ]
  },
  {
   "cell_type": "code",
   "execution_count": 154,
   "id": "cb413b3b-0cfa-4e53-9ff0-22488fd02a05",
   "metadata": {},
   "outputs": [],
   "source": [
    "import torch\n",
    "import torch.nn as nn\n",
    "import torch.optim as optim\n",
    "import numpy as np\n",
    "import pandas as pd \n",
    "import matplotlib.pyplot as plt "
   ]
  },
  {
   "cell_type": "markdown",
   "id": "7eb94981-58e8-4b9f-bb55-54883821c498",
   "metadata": {},
   "source": [
    "### Step 2: Define the Cubic Cost Model"
   ]
  },
  {
   "cell_type": "code",
   "execution_count": 155,
   "id": "727fa9c7-a2f4-4074-96af-141fb0690a79",
   "metadata": {},
   "outputs": [],
   "source": [
    "class CubicCostModel(nn.Module): \n",
    "    def __init__(self) : \n",
    "        super(CubicCostModel,self).__init__()\n",
    "      # Linear layer with 3 input features (x, x^2, x^3) and 1 output (total cost)\n",
    "      # x is the Quantity Produced\n",
    "        self.fc = nn.Linear(3,1)\n",
    "    def forward(self, x: torch.Tensor) -> torch.Tensor: \n",
    "        # Transform input to include cubic and squared terms\n",
    "        # x_poly =torch.cat([x, x**2, x**3], dim = 1)\n",
    "        # Pass transformed input through linear layer\n",
    "        return self.fc(x)"
   ]
  },
  {
   "cell_type": "markdown",
   "id": "3ce4445a-d59a-49e0-9a62-3dde7efac642",
   "metadata": {},
   "source": [
    "### Step 3: Initialize the Model, Define Loss, and Optimizer"
   ]
  },
  {
   "cell_type": "code",
   "execution_count": 156,
   "id": "6d77e53a-148f-430e-8102-b0f3f27512ad",
   "metadata": {},
   "outputs": [],
   "source": [
    "# Initialize the model \n",
    "model=CubicCostModel()\n",
    "# Mean Square Error Loss for regression\n",
    "loss_fn = nn.MSELoss()\n",
    "#optimizer ( we can use SGD Stochastic Gradient Descent or Adam )\n",
    "optimizer = optim.Adam(model.parameters(), lr=0.01)"
   ]
  },
  {
   "cell_type": "markdown",
   "id": "c8089473-bc3d-44e5-b474-be096ca8335d",
   "metadata": {},
   "source": [
    "### Step 4: Prepare the Data\n"
   ]
  },
  {
   "cell_type": "code",
   "execution_count": 157,
   "id": "234d045f-f0bb-4cef-99c2-fffbc6999ee5",
   "metadata": {},
   "outputs": [],
   "source": [
    "def transformDataToPoly(data):\n",
    "  # Transform data to include polynomial terms\n",
    "  x_data_poly = torch.cat([data, data**2, data**3], dim=1)\n",
    "  return x_data_poly  "
   ]
  },
  {
   "cell_type": "code",
   "execution_count": 158,
   "id": "fa5ab11e-2663-4195-8820-b91b0868969f",
   "metadata": {},
   "outputs": [
    {
     "data": {
      "text/plain": [
       "(118, 118, 30, 30, 118)"
      ]
     },
     "execution_count": 158,
     "metadata": {},
     "output_type": "execute_result"
    }
   ],
   "source": [
    "file_path = \"revenue2-2.xlsx\"\n",
    "df = pd.read_excel(file_path)\n",
    "# df.dtypes #to check the datatype to convert to torch datatype\n",
    "Q = df['Quntitys Produced']  # int64\n",
    "Q_max = Q.max()\n",
    "# print(Q_max)\n",
    "Q = Q / Q_max\n",
    "tc = df['Total cost']     # float64\n",
    "tc = tc / pow(Q_max,3)\n",
    "X = torch.tensor(Q , dtype= torch.float32).unsqueeze(1) \n",
    "y = torch.tensor(tc , dtype= torch.float32).unsqueeze(1)\n",
    "\n",
    "# create train/test split \n",
    "train_split = int(0.8 * len(X))\n",
    "X_train , y_train = X[ :train_split], y[ :train_split]\n",
    "X_test = X[train_split : ]\n",
    "y_test = y[train_split: ]\n",
    "\n",
    "X_train_poly = transformDataToPoly(X_train)\n",
    "X_test_poly =transformDataToPoly(X_test)\n",
    "len(X_train) , len(y_train), len(X_test) , len(y_test) , len(X_train_poly)"
   ]
  },
  {
   "cell_type": "markdown",
   "id": "dd1adcd7-2501-4993-8d7b-2f0edda91e54",
   "metadata": {},
   "source": [
    "### Step 5: Training Loop"
   ]
  },
  {
   "cell_type": "code",
   "execution_count": 159,
   "id": "e77bb053-204d-4b18-9479-7b26ee2206ed",
   "metadata": {},
   "outputs": [
    {
     "name": "stdout",
     "output_type": "stream",
     "text": [
      "Epoch [200/1000], Loss: 0.00000\n",
      "Epoch [400/1000], Loss: 0.00000\n",
      "Epoch [600/1000], Loss: 0.00000\n",
      "Epoch [800/1000], Loss: 0.00000\n",
      "Epoch [1000/1000], Loss: 0.00000\n"
     ]
    }
   ],
   "source": [
    "epochs = 1000\n",
    "for epoch in range(epochs):\n",
    "    #Training \n",
    "    #put the model in training mode \n",
    "    model.train()\n",
    "    #1.forward pass \n",
    "    y_pred = model(X_train_poly) \n",
    "    #2.calculate the loss \n",
    "    loss = loss_fn(y_pred, y_train)\n",
    "    #3. Zero grad of the optimizer \n",
    "    optimizer.zero_grad()\n",
    "    #4. loss backwards -->>> loss.backward() computes dloss/dx for every parameter x which has requires_grad=True.\n",
    "    loss.backward()  \n",
    "    #5. Progress the optimizer\n",
    "    optimizer.step()\n",
    "    \n",
    "    # print progress\n",
    "    if (epoch+1) % 200 == 0:\n",
    "      print(f'Epoch [{epoch+1}/{epochs}], Loss: {loss.item():.5f}')"
   ]
  },
  {
   "cell_type": "markdown",
   "id": "c177478a-c443-4a5b-8c65-3816d4b52f65",
   "metadata": {},
   "source": [
    "### Step 6: Model Evaluation"
   ]
  },
  {
   "cell_type": "code",
   "execution_count": 160,
   "id": "25638fd7-aef8-4e94-b831-9b43a13bc38e",
   "metadata": {},
   "outputs": [],
   "source": [
    "model.eval()\n",
    "with torch.no_grad():\n",
    "     y_preds = model(X_test_poly)"
   ]
  },
  {
   "cell_type": "code",
   "execution_count": 161,
   "id": "3ba57b91-aa83-4248-9f11-a2e5f38c16b0",
   "metadata": {},
   "outputs": [
    {
     "name": "stdout",
     "output_type": "stream",
     "text": [
      "Predicted cost for input : 8627.1309\n"
     ]
    }
   ],
   "source": [
    "# Sample prediction\n",
    "with torch.no_grad():\n",
    "    \n",
    "    test_data81 = torch.tensor([[81/Q_max]], dtype=torch.float32)\n",
    "    test_data_poly81 = torch.cat([test_data81, test_data81**2, test_data81**3], dim=1)\n",
    "    y_pred_at_81= model(test_data_poly81)\n",
    "    print(f\"Predicted cost for input : { y_pred_at_81.item()*pow(Q_max,3):.4f}\")\n"
   ]
  },
  {
   "cell_type": "raw",
   "id": "1ba773c3-49e5-4884-8e10-691fec1b4deb",
   "metadata": {},
   "source": [
    "Explanation\n",
    "Transforming Input: Before feeding x to the nn.Linear layer, we transform it into [x, x^2, x^3].\n",
    "Model Definition: Using nn.Linear(3, 1) makes the model flexible for different cost functions if changes are needed later.\n",
    "Training Loop: The loop performs gradient descent to minimize the Mean Squared Error (MSE) loss."
   ]
  },
  {
   "cell_type": "code",
   "execution_count": 199,
   "id": "e0240784-e658-4791-8025-6cbad6ccedb5",
   "metadata": {},
   "outputs": [],
   "source": [
    "def plotData(x_axis, y1_axis, label1 ,  y2_test,test_data=None,predictions=None ):\n",
    "\n",
    "    x_axis=x_axis.detach().numpy()\n",
    "    y1_axis=y1_axis.detach().numpy()\n",
    "      \n",
    "    plt.scatter(x_axis, y1_axis, c =\"b\" , s= 4, label = label1 )\n",
    "    plt.scatter(test_data, y2_test, c =\"g\" , s= 4, label = label1 )\n",
    "        \n",
    "    if predictions != None:\n",
    "      # Extract values to 1D arrays\n",
    "      test_data=test_data.detach().numpy()\n",
    "      # predictions=predictions.detach.numpy()  \n",
    "      plt.scatter(test_data, predictions, c = \"r\" , s= 4, label = \"prediction\" )\n",
    "\n",
    "      i = int((len(test_data)+len(x_axis))/2)\n",
    "      # Specify the point to annotate\n",
    "      x_value =  i\n",
    "      y_value = predictions.max()*0.8\n",
    "    \n",
    "      # Annotate the point on the curve\n",
    "      plt.annotate(\n",
    "        'prediction', # The text to display\n",
    "        xy=(x_value*1.8, y_value), # The point to annotate\n",
    "        xytext=(x_value  , y_value), # Position of the text\n",
    "        arrowprops=dict(arrowstyle='->', color='black'), # Arrow properties\n",
    "        fontsize=10, # Font size\n",
    "        color='red' # Text color \n",
    "              )\n",
    "    \n",
    "    plt.legend()\n",
    "    plt.show()"
   ]
  },
  {
   "cell_type": "code",
   "execution_count": 200,
   "id": "f80ca704-a771-4776-97c5-2ec2a0a370b0",
   "metadata": {},
   "outputs": [
    {
     "data": {
      "image/png": "[encoded data removed]",
      "text/plain": [
       "<Figure size 640x480 with 1 Axes>"
      ]
     },
     "metadata": {},
     "output_type": "display_data"
    }
   ],
   "source": [
    "plotData(X_train*Q_max,y_train*pow(Q_max,3),label1=\"Total cost train data\",y2_test=y_test*pow(Q_max,3), test_data=X_test*Q_max,predictions=y_preds*pow(Q_max,3))"
   ]
  },
  {
   "cell_type": "code",
   "execution_count": 184,
   "id": "a8141782-3e3d-4acc-bc31-ad57e5ddd53f",
   "metadata": {},
   "outputs": [
    {
     "name": "stdout",
     "output_type": "stream",
     "text": [
      "Test data shape: torch.Size([1, 1])\n",
      "Predictions shape: torch.Size([118, 1])\n",
      "Test data shape: torch.Size([1, 1])\n",
      "Predictions shape: torch.Size([118, 1])\n"
     ]
    }
   ],
   "source": [
    "print(\"Test data shape:\", test_data.shape)\n",
    "print(\"Predictions shape:\", y_pred.shape)\n",
    "print(\"Test data shape:\", test_data.size())\n",
    "print(\"Predictions shape:\", y_pred.size())"
   ]
  },
  {
   "cell_type": "markdown",
   "id": "ac12e413-cef3-4e00-8aea-f8708f8a567e",
   "metadata": {},
   "source": [
    "### Saving a PyTorch model's in pt \n"
   ]
  },
  {
   "cell_type": "code",
   "execution_count": 202,
   "id": "c8fb6ddd-075a-4ae9-b49d-7316d30994aa",
   "metadata": {},
   "outputs": [],
   "source": [
    "MODEL_SAVE_PATH = \"cubicModel.pt\"\n",
    "torch.save(obj=model.state_dict(), # only saving the state_dict() only saves the models learned parameters\n",
    "           f=MODEL_SAVE_PATH)"
   ]
  },
  {
   "cell_type": "code",
   "execution_count": 203,
   "id": "687fb3c7-05d8-49f7-b89e-d6691d515975",
   "metadata": {},
   "outputs": [
    {
     "data": {
      "text/plain": [
       "OrderedDict([('fc.weight', tensor([[ 0.0085, -0.0214,  0.0302]])),\n",
       "             ('fc.bias', tensor([-0.0005]))])"
      ]
     },
     "execution_count": 203,
     "metadata": {},
     "output_type": "execute_result"
    }
   ],
   "source": [
    "model.state_dict()"
   ]
  },
  {
   "cell_type": "code",
   "execution_count": null,
   "id": "a9e7673d-ee41-4dc0-b5b9-4920d6e2917e",
   "metadata": {},
   "outputs": [],
   "source": []
  }
 ],
 "metadata": {
  "kernelspec": {
   "display_name": "Python 3 (ipykernel)",
   "language": "python",
   "name": "python3"
  },
  "language_info": {
   "codemirror_mode": {
    "name": "ipython",
    "version": 3
   },
   "file_extension": ".py",
   "mimetype": "text/x-python",
   "name": "python",
   "nbconvert_exporter": "python",
   "pygments_lexer": "ipython3",
   "version": "3.11.8"
  }
 },
 "nbformat": 4,
 "nbformat_minor": 5
}
